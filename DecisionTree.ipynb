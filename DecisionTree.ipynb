{
 "cells": [
  {
   "cell_type": "code",
   "execution_count": 19,
   "id": "aa093fda-af6a-4bc9-9bc1-d0438f1d2f26",
   "metadata": {},
   "outputs": [],
   "source": [
    "import  numpy as np\n",
    "import pandas as pd\n",
    "from sklearn.metrics import confusion_matrix\n",
    "from sklearn.model_selection import train_test_split\n",
    "from sklearn.tree import DecisionTreeClassifier\n",
    "from sklearn.metrics import accuracy_score\n",
    "from sklearn.metrics import classification_report"
   ]
  },
  {
   "cell_type": "code",
   "execution_count": 20,
   "id": "e719bda5-619f-44fd-81be-ec969b729f60",
   "metadata": {},
   "outputs": [],
   "source": [
    "#Function importing dataset\n",
    "\n",
    "def importdata():\n",
    "    balance_data = pd.read_csv(\n",
    "\n",
    "\n",
    "        'https://archive.ics.uci.edu/ml/machine-learning-'+'databases/balance-scale/balance-scale.data',\n",
    "\n",
    "        sep = ',', header = None\n",
    "    )\n",
    "\n",
    "    print('Dataset Length:', len(balance_data))\n",
    "    print('Dataset Shape:', balance_data.shape)\n",
    "\n",
    "    return balance_data\n",
    "    "
   ]
  },
  {
   "cell_type": "code",
   "execution_count": 21,
   "id": "b79e9e42-d0a2-4a88-bd8b-79466dde3354",
   "metadata": {},
   "outputs": [
    {
     "name": "stdout",
     "output_type": "stream",
     "text": [
      "Dataset Length: 625\n",
      "Dataset Shape: (625, 5)\n",
      "     0  1  2  3  4\n",
      "0    B  1  1  1  1\n",
      "1    R  1  1  1  2\n",
      "2    R  1  1  1  3\n",
      "3    R  1  1  1  4\n",
      "4    R  1  1  1  5\n",
      "..  .. .. .. .. ..\n",
      "620  L  5  5  5  1\n",
      "621  L  5  5  5  2\n",
      "622  L  5  5  5  3\n",
      "623  L  5  5  5  4\n",
      "624  B  5  5  5  5\n",
      "\n",
      "[625 rows x 5 columns]\n"
     ]
    }
   ],
   "source": [
    "print(importdata())"
   ]
  },
  {
   "cell_type": "code",
   "execution_count": 41,
   "id": "a12175d8-aebf-4e2e-8c88-a25f563005cc",
   "metadata": {},
   "outputs": [],
   "source": [
    "#create a function to split the dataset. \n",
    "from sklearn.model_selection import train_test_split\n",
    "\n",
    "# create a function to split the dataset\n",
    "def splitdataset(balance_data):\n",
    "    # Separating the target variable\n",
    "    x = balance_data.values[:, 1:5]   # features\n",
    "    y = balance_data.values[:, 0]     # target\n",
    "\n",
    "    # Splitting dataset into train and test\n",
    "    x_train, x_test, y_train, y_test = train_test_split(\n",
    "        x, y, test_size=0.3, random_state=100)\n",
    "\n",
    "    return x_train, x_test, y_train, y_test\n",
    "\n"
   ]
  },
  {
   "cell_type": "code",
   "execution_count": 57,
   "id": "d12c96ec-65b5-4f5a-9d4b-9f7febd37d04",
   "metadata": {},
   "outputs": [],
   "source": [
    "#function to perform training with giniIndex.\n",
    "\n",
    "def train_using_gini(x_train, y_train):\n",
    "    clf_gini = DecisionTreeClassifier(\n",
    "        criterion='gini',\n",
    "        random_state=100,\n",
    "        max_depth=3,\n",
    "        min_samples_leaf=5\n",
    "    )\n",
    "    clf_gini.fit(x_train, y_train)\n",
    "    return clf_gini"
   ]
  },
  {
   "cell_type": "code",
   "execution_count": 58,
   "id": "92ff7cfb-313c-4440-9e97-e4b1dfcadeb6",
   "metadata": {},
   "outputs": [],
   "source": [
    "#Function to perform training with enropy\n",
    "\n",
    "def train_using_entropy(x_train, y_train):\n",
    "    clf_entropy = DecisionTreeClassifier(\n",
    "        criterion='entropy',\n",
    "        random_state=100,\n",
    "        max_depth=3,\n",
    "        min_samples_leaf=5\n",
    "    )\n",
    "    clf_entropy.fit(x_train, y_train)\n",
    "    return clf_entropy\n",
    "\n",
    "    "
   ]
  },
  {
   "cell_type": "code",
   "execution_count": 59,
   "id": "e841cf5e-4d99-405e-af64-8910d8331197",
   "metadata": {},
   "outputs": [],
   "source": [
    "#Function to make predictions\n",
    "\n",
    "def predictions(x_test, clf_object):\n",
    "\n",
    "    #prediction on test with giniIndex\n",
    "    y_pred = clf_object.predict(x_test)\n",
    "    print('Predicted values:')\n",
    "    print(y_pred)\n",
    "    return y_pred"
   ]
  },
  {
   "cell_type": "code",
   "execution_count": 64,
   "id": "493f9b03-f89a-4094-944c-df9175cb48c4",
   "metadata": {
    "jupyter": {
     "source_hidden": true
    }
   },
   "outputs": [],
   "source": [
    "#Function to calculate the accuracy\n",
    "\n",
    "from sklearn.metrics import confusion_matrix, accuracy_score, classification_report\n",
    "\n",
    "def cal_accuracy(y_test, y_pred):\n",
    "    print(\"Confusion Matrix :\\n\", confusion_matrix(y_test, y_pred))\n",
    "    print(\"Accuracy :\", accuracy_score(y_test, y_pred) * 100)\n",
    "    print(\"Report :\\n\", classification_report(y_test, y_pred))\n"
   ]
  },
  {
   "cell_type": "code",
   "execution_count": 65,
   "id": "4c948076-1163-4e1c-a07d-0c95e538fd4d",
   "metadata": {
    "scrolled": true
   },
   "outputs": [
    {
     "name": "stdout",
     "output_type": "stream",
     "text": [
      "Dataset Length: 625\n",
      "Dataset Shape: (625, 5)\n",
      "Results Using Gini Index:\n",
      "Predicted values:\n",
      "['R' 'L' 'R' 'R' 'R' 'L' 'R' 'L' 'L' 'L' 'R' 'L' 'L' 'L' 'R' 'L' 'R' 'L'\n",
      " 'L' 'R' 'L' 'R' 'L' 'L' 'R' 'L' 'L' 'L' 'R' 'L' 'L' 'L' 'R' 'L' 'L' 'L'\n",
      " 'L' 'R' 'L' 'L' 'R' 'L' 'R' 'L' 'R' 'R' 'L' 'L' 'R' 'L' 'R' 'R' 'L' 'R'\n",
      " 'R' 'L' 'R' 'R' 'L' 'L' 'R' 'R' 'L' 'L' 'L' 'L' 'L' 'R' 'R' 'L' 'L' 'R'\n",
      " 'R' 'L' 'R' 'L' 'R' 'R' 'R' 'L' 'R' 'L' 'L' 'L' 'L' 'R' 'R' 'L' 'R' 'L'\n",
      " 'R' 'R' 'L' 'L' 'L' 'R' 'R' 'L' 'L' 'L' 'R' 'L' 'R' 'R' 'R' 'R' 'R' 'R'\n",
      " 'R' 'L' 'R' 'L' 'R' 'R' 'L' 'R' 'R' 'R' 'R' 'R' 'L' 'R' 'L' 'L' 'L' 'L'\n",
      " 'L' 'L' 'L' 'R' 'R' 'R' 'R' 'L' 'R' 'R' 'R' 'L' 'L' 'R' 'L' 'R' 'L' 'R'\n",
      " 'L' 'L' 'R' 'L' 'L' 'R' 'L' 'R' 'L' 'R' 'R' 'R' 'L' 'R' 'R' 'R' 'R' 'R'\n",
      " 'L' 'L' 'R' 'R' 'R' 'R' 'L' 'R' 'R' 'R' 'L' 'R' 'L' 'L' 'L' 'L' 'R' 'R'\n",
      " 'L' 'R' 'R' 'L' 'L' 'R' 'R' 'R']\n",
      "Confusion Matrix :\n",
      " [[ 0  6  7]\n",
      " [ 0 67 18]\n",
      " [ 0 19 71]]\n",
      "Accuracy : 73.40425531914893\n",
      "Report :\n",
      "               precision    recall  f1-score   support\n",
      "\n",
      "           B       0.00      0.00      0.00        13\n",
      "           L       0.73      0.79      0.76        85\n",
      "           R       0.74      0.79      0.76        90\n",
      "\n",
      "    accuracy                           0.73       188\n",
      "   macro avg       0.49      0.53      0.51       188\n",
      "weighted avg       0.68      0.73      0.71       188\n",
      "\n",
      "Results Using Entropy:\n",
      "Predicted values:\n",
      "['R' 'L' 'R' 'L' 'R' 'L' 'R' 'L' 'R' 'R' 'R' 'R' 'L' 'L' 'R' 'L' 'R' 'L'\n",
      " 'L' 'R' 'L' 'R' 'L' 'L' 'R' 'L' 'R' 'L' 'R' 'L' 'R' 'L' 'R' 'L' 'L' 'L'\n",
      " 'L' 'L' 'R' 'L' 'R' 'L' 'R' 'L' 'R' 'R' 'L' 'L' 'R' 'L' 'L' 'R' 'L' 'L'\n",
      " 'R' 'L' 'R' 'R' 'L' 'R' 'R' 'R' 'L' 'L' 'R' 'L' 'L' 'R' 'L' 'L' 'L' 'R'\n",
      " 'R' 'L' 'R' 'L' 'R' 'R' 'R' 'L' 'R' 'L' 'L' 'L' 'L' 'R' 'R' 'L' 'R' 'L'\n",
      " 'R' 'R' 'L' 'L' 'L' 'R' 'R' 'L' 'L' 'L' 'R' 'L' 'L' 'R' 'R' 'R' 'R' 'R'\n",
      " 'R' 'L' 'R' 'L' 'R' 'R' 'L' 'R' 'R' 'L' 'R' 'R' 'L' 'R' 'R' 'R' 'L' 'L'\n",
      " 'L' 'L' 'L' 'R' 'R' 'R' 'R' 'L' 'R' 'R' 'R' 'L' 'L' 'R' 'L' 'R' 'L' 'R'\n",
      " 'L' 'R' 'R' 'L' 'L' 'R' 'L' 'R' 'R' 'R' 'R' 'R' 'L' 'R' 'R' 'R' 'R' 'R'\n",
      " 'R' 'L' 'R' 'L' 'R' 'R' 'L' 'R' 'L' 'R' 'L' 'R' 'L' 'L' 'L' 'L' 'L' 'R'\n",
      " 'R' 'R' 'L' 'L' 'L' 'R' 'R' 'R']\n",
      "Confusion Matrix :\n",
      " [[ 0  6  7]\n",
      " [ 0 63 22]\n",
      " [ 0 20 70]]\n",
      "Accuracy : 70.74468085106383\n",
      "Report :\n",
      "               precision    recall  f1-score   support\n",
      "\n",
      "           B       0.00      0.00      0.00        13\n",
      "           L       0.71      0.74      0.72        85\n",
      "           R       0.71      0.78      0.74        90\n",
      "\n",
      "    accuracy                           0.71       188\n",
      "   macro avg       0.47      0.51      0.49       188\n",
      "weighted avg       0.66      0.71      0.68       188\n",
      "\n"
     ]
    },
    {
     "name": "stderr",
     "output_type": "stream",
     "text": [
      "/opt/anaconda3/lib/python3.13/site-packages/sklearn/metrics/_classification.py:1565: UndefinedMetricWarning: Precision is ill-defined and being set to 0.0 in labels with no predicted samples. Use `zero_division` parameter to control this behavior.\n",
      "  _warn_prf(average, modifier, f\"{metric.capitalize()} is\", len(result))\n",
      "/opt/anaconda3/lib/python3.13/site-packages/sklearn/metrics/_classification.py:1565: UndefinedMetricWarning: Precision is ill-defined and being set to 0.0 in labels with no predicted samples. Use `zero_division` parameter to control this behavior.\n",
      "  _warn_prf(average, modifier, f\"{metric.capitalize()} is\", len(result))\n",
      "/opt/anaconda3/lib/python3.13/site-packages/sklearn/metrics/_classification.py:1565: UndefinedMetricWarning: Precision is ill-defined and being set to 0.0 in labels with no predicted samples. Use `zero_division` parameter to control this behavior.\n",
      "  _warn_prf(average, modifier, f\"{metric.capitalize()} is\", len(result))\n",
      "/opt/anaconda3/lib/python3.13/site-packages/sklearn/metrics/_classification.py:1565: UndefinedMetricWarning: Precision is ill-defined and being set to 0.0 in labels with no predicted samples. Use `zero_division` parameter to control this behavior.\n",
      "  _warn_prf(average, modifier, f\"{metric.capitalize()} is\", len(result))\n",
      "/opt/anaconda3/lib/python3.13/site-packages/sklearn/metrics/_classification.py:1565: UndefinedMetricWarning: Precision is ill-defined and being set to 0.0 in labels with no predicted samples. Use `zero_division` parameter to control this behavior.\n",
      "  _warn_prf(average, modifier, f\"{metric.capitalize()} is\", len(result))\n",
      "/opt/anaconda3/lib/python3.13/site-packages/sklearn/metrics/_classification.py:1565: UndefinedMetricWarning: Precision is ill-defined and being set to 0.0 in labels with no predicted samples. Use `zero_division` parameter to control this behavior.\n",
      "  _warn_prf(average, modifier, f\"{metric.capitalize()} is\", len(result))\n"
     ]
    }
   ],
   "source": [
    "\n",
    "\n",
    "def main():\n",
    "    data = importdata()\n",
    "\n",
    "    # Split dataset\n",
    "    x_train, x_test, y_train, y_test = splitdataset(data)\n",
    "    \n",
    "    # Train classifiers\n",
    "    clf_gini = train_using_gini(x_train, y_train)\n",
    "    clf_entropy = train_using_entropy(x_train, y_train)\n",
    "    \n",
    "    # Operational Phase\n",
    "    print('Results Using Gini Index:')\n",
    "    \n",
    "    # Prediction using Gini\n",
    "    y_pred_gini = predictions(x_test, clf_gini)\n",
    "    cal_accuracy(y_test, y_pred_gini)\n",
    "    \n",
    "    print('Results Using Entropy:')\n",
    "    \n",
    "    # Prediction using Entropy\n",
    "    y_pred_entropy = predictions(x_test, clf_entropy)\n",
    "    cal_accuracy(y_test, y_pred_entropy)\n",
    "    \n",
    "    \n",
    "if __name__ == \"__main__\":\n",
    "    main()\n"
   ]
  },
  {
   "cell_type": "code",
   "execution_count": null,
   "id": "daec1f26-d78d-47bd-bad8-195847c37667",
   "metadata": {},
   "outputs": [],
   "source": []
  },
  {
   "cell_type": "code",
   "execution_count": null,
   "id": "172c16f8-26ce-452b-afe1-ab16030cdecb",
   "metadata": {},
   "outputs": [],
   "source": []
  },
  {
   "cell_type": "code",
   "execution_count": null,
   "id": "945f8590-613c-4f6f-be00-5712806b67cf",
   "metadata": {},
   "outputs": [],
   "source": []
  }
 ],
 "metadata": {
  "kernelspec": {
   "display_name": "Python 3 (ipykernel)",
   "language": "python",
   "name": "python3"
  },
  "language_info": {
   "codemirror_mode": {
    "name": "ipython",
    "version": 3
   },
   "file_extension": ".py",
   "mimetype": "text/x-python",
   "name": "python",
   "nbconvert_exporter": "python",
   "pygments_lexer": "ipython3",
   "version": "3.13.5"
  }
 },
 "nbformat": 4,
 "nbformat_minor": 5
}
